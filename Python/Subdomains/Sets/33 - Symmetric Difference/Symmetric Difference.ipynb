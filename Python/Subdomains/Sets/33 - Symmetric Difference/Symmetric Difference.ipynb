{
 "cells": [
  {
   "cell_type": "markdown",
   "metadata": {},
   "source": [
    "### Question 33\n",
    "\n",
    "**Symmetric Difference**\n",
    "\n",
    "https://www.hackerrank.com/challenges/symmetric-difference/problem?isFullScreen=true"
   ]
  },
  {
   "cell_type": "code",
   "execution_count": null,
   "metadata": {},
   "outputs": [
    {
     "name": "stdout",
     "output_type": "stream",
     "text": [
      "5\n",
      "9\n",
      "11\n",
      "12\n"
     ]
    }
   ],
   "source": [
    "m = int(input())\n",
    "a = set(map(int, input().split())) \n",
    "\n",
    "n = int(input())\n",
    "b = set(map(int, input().split()))\n",
    "\n",
    "# Using the ^ operator, we compute the symmetric difference between the two sets, which gives elements present in either set but not in both.\n",
    "# symmetric_diff = a ^ b  \n",
    "for i in sorted(a.symmetric_difference(b)):\n",
    "    print(i)"
   ]
  }
 ],
 "metadata": {
  "kernelspec": {
   "display_name": "Python 3",
   "language": "python",
   "name": "python3"
  },
  "language_info": {
   "codemirror_mode": {
    "name": "ipython",
    "version": 3
   },
   "file_extension": ".py",
   "mimetype": "text/x-python",
   "name": "python",
   "nbconvert_exporter": "python",
   "pygments_lexer": "ipython3",
   "version": "3.13.1"
  }
 },
 "nbformat": 4,
 "nbformat_minor": 2
}
