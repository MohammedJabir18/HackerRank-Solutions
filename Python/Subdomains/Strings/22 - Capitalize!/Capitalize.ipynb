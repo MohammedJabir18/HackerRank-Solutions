{
 "cells": [
  {
   "cell_type": "markdown",
   "metadata": {},
   "source": [
    "### Question 22\n",
    "\n",
    "**Capitalize!**\n",
    "\n",
    "https://www.hackerrank.com/challenges/capitalize/problem?isFullScreen=true"
   ]
  },
  {
   "cell_type": "code",
   "execution_count": null,
   "metadata": {},
   "outputs": [
    {
     "name": "stdout",
     "output_type": "stream",
     "text": [
      "Mohammed Jabir\n"
     ]
    }
   ],
   "source": [
    "import os\n",
    "\n",
    "def solve(s):\n",
    "    return \" \".join(word.capitalize() if word else \"\" for word in s.split(\" \"))\n",
    "\n",
    "if __name__ == '__main__':\n",
    "    s = input().strip()\n",
    "    result = solve(s)\n",
    "    print(result)"
   ]
  }
 ],
 "metadata": {
  "kernelspec": {
   "display_name": "Python 3",
   "language": "python",
   "name": "python3"
  },
  "language_info": {
   "codemirror_mode": {
    "name": "ipython",
    "version": 3
   },
   "file_extension": ".py",
   "mimetype": "text/x-python",
   "name": "python",
   "nbconvert_exporter": "python",
   "pygments_lexer": "ipython3",
   "version": "3.13.1"
  }
 },
 "nbformat": 4,
 "nbformat_minor": 2
}
