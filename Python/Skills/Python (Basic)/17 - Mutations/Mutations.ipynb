{
 "cells": [
  {
   "cell_type": "markdown",
   "metadata": {},
   "source": [
    "### Question 17\n",
    "\n",
    "**Mutations**\n",
    "\n",
    "https://www.hackerrank.com/challenges/python-mutations/problem?isFullScreen=true"
   ]
  },
  {
   "cell_type": "code",
   "execution_count": 8,
   "metadata": {},
   "outputs": [
    {
     "name": "stdout",
     "output_type": "stream",
     "text": [
      "abrackdabra\n"
     ]
    }
   ],
   "source": [
    "def mutate_string(string, position, character):\n",
    "    string = list(string)\n",
    "    string[position] = character\n",
    "    return \"\".join(string)\n",
    "\n",
    "if __name__ == \"__main__\":\n",
    "    s = input()\n",
    "    p, c = input().split()\n",
    "    print(mutate_string(s, int(p), c))"
   ]
  }
 ],
 "metadata": {
  "kernelspec": {
   "display_name": "Python 3",
   "language": "python",
   "name": "python3"
  },
  "language_info": {
   "codemirror_mode": {
    "name": "ipython",
    "version": 3
   },
   "file_extension": ".py",
   "mimetype": "text/x-python",
   "name": "python",
   "nbconvert_exporter": "python",
   "pygments_lexer": "ipython3",
   "version": "3.13.1"
  }
 },
 "nbformat": 4,
 "nbformat_minor": 2
}
