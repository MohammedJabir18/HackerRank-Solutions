{
 "cells": [
  {
   "cell_type": "markdown",
   "metadata": {},
   "source": [
    "### Question 35\n",
    "\n",
    "**Time Delta**\n",
    "\n",
    "https://www.hackerrank.com/challenges/python-time-delta/problem?isFullScreen=true"
   ]
  },
  {
   "cell_type": "code",
   "execution_count": 6,
   "metadata": {},
   "outputs": [
    {
     "name": "stdout",
     "output_type": "stream",
     "text": [
      "25200\n",
      "88200\n"
     ]
    }
   ],
   "source": [
    "import datetime\n",
    "\n",
    "def time_delta(t1, t2):\n",
    "    def parse_to_utc(t1):\n",
    "        parts = t1.rsplit(\" \", 1)\n",
    "        timestamp_part = parts[0]\n",
    "        offset_part = parts[1]\n",
    "\n",
    "        local_time = datetime.datetime.strptime(timestamp_part, \"%a %d %b %Y %H:%M:%S\")\n",
    "\n",
    "        sign = offset_part[0]\n",
    "        hours = int(offset_part[1:3])\n",
    "        minutes = int(offset_part[3:5])\n",
    "        total_minutes = hours * 60 + minutes\n",
    "\n",
    "        if sign == \"-\":\n",
    "            total_minutes = -total_minutes\n",
    "        \n",
    "        offset = datetime.timedelta(minutes=total_minutes)\n",
    "\n",
    "        utc_time = local_time - offset\n",
    "\n",
    "        return utc_time\n",
    "\n",
    "    utc_1 = parse_to_utc(t1)\n",
    "    utc_2 = parse_to_utc(t2)\n",
    "\n",
    "    return int(abs((utc_1 - utc_2).total_seconds()))\n",
    "\n",
    "\n",
    "t = int(input())\n",
    "\n",
    "for _ in range(t):\n",
    "    t1 = input()\n",
    "    t2 = input()\n",
    "\n",
    "    print(time_delta(t1, t2))"
   ]
  }
 ],
 "metadata": {
  "kernelspec": {
   "display_name": "Python 3",
   "language": "python",
   "name": "python3"
  },
  "language_info": {
   "codemirror_mode": {
    "name": "ipython",
    "version": 3
   },
   "file_extension": ".py",
   "mimetype": "text/x-python",
   "name": "python",
   "nbconvert_exporter": "python",
   "pygments_lexer": "ipython3",
   "version": "3.13.1"
  }
 },
 "nbformat": 4,
 "nbformat_minor": 2
}
