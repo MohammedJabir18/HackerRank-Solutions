{
 "cells": [
  {
   "cell_type": "markdown",
   "metadata": {},
   "source": [
    "### Question 30\n",
    "\n",
    "**Calendar Module**\n",
    "\n",
    "https://www.hackerrank.com/challenges/calendar-module/problem?isFullScreen=true"
   ]
  },
  {
   "cell_type": "code",
   "execution_count": 22,
   "metadata": {},
   "outputs": [
    {
     "name": "stdout",
     "output_type": "stream",
     "text": [
      "8 5 2015\n"
     ]
    }
   ],
   "source": [
    "import calendar\n",
    "\n",
    "M, D, Y = map(int, input().split())\n",
    "\n",
    "w =calendar.weekday(Y, M, D)\n",
    "\n",
    "print(M, D, Y)"
   ]
  },
  {
   "cell_type": "code",
   "execution_count": 24,
   "metadata": {},
   "outputs": [
    {
     "name": "stdout",
     "output_type": "stream",
     "text": [
      "WEDNESDAY\n"
     ]
    }
   ],
   "source": [
    "print(calendar.day_name[w].upper())"
   ]
  }
 ],
 "metadata": {
  "kernelspec": {
   "display_name": "Python 3",
   "language": "python",
   "name": "python3"
  },
  "language_info": {
   "codemirror_mode": {
    "name": "ipython",
    "version": 3
   },
   "file_extension": ".py",
   "mimetype": "text/x-python",
   "name": "python",
   "nbconvert_exporter": "python",
   "pygments_lexer": "ipython3",
   "version": "3.13.1"
  }
 },
 "nbformat": 4,
 "nbformat_minor": 2
}
