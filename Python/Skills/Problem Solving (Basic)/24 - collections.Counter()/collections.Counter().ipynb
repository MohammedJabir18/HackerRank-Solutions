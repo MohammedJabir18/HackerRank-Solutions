{
 "cells": [
  {
   "cell_type": "markdown",
   "metadata": {},
   "source": [
    "### Question 24\n",
    "\n",
    "**collections.Counter()**\n",
    "\n",
    "https://www.hackerrank.com/challenges/collections-counter/problem?isFullScreen=true"
   ]
  },
  {
   "cell_type": "code",
   "execution_count": 22,
   "metadata": {},
   "outputs": [
    {
     "name": "stdout",
     "output_type": "stream",
     "text": [
      "255\n"
     ]
    }
   ],
   "source": [
    "from collections import Counter\n",
    "\n",
    "x = int(input(\"Enter number of shoes: \"))\n",
    "sizes = Counter(map(int, input().split()))\n",
    "n = int(input())\n",
    "\n",
    "earnings = 0\n",
    "for _ in range(n):\n",
    "    size, prize = map(int, input().split())\n",
    "    if sizes[size] > 0:\n",
    "        earnings += prize\n",
    "        sizes[size] -= 1\n",
    "\n",
    "print(earnings)"
   ]
  }
 ],
 "metadata": {
  "kernelspec": {
   "display_name": "Python 3",
   "language": "python",
   "name": "python3"
  },
  "language_info": {
   "codemirror_mode": {
    "name": "ipython",
    "version": 3
   },
   "file_extension": ".py",
   "mimetype": "text/x-python",
   "name": "python",
   "nbconvert_exporter": "python",
   "pygments_lexer": "ipython3",
   "version": "3.13.1"
  }
 },
 "nbformat": 4,
 "nbformat_minor": 2
}
