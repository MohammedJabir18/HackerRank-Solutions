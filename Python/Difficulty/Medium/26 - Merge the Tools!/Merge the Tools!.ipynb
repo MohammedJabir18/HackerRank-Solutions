{
 "cells": [
  {
   "cell_type": "markdown",
   "metadata": {},
   "source": [
    "### Question 26\n",
    "\n",
    "**Merge the Tools!**\n",
    "\n",
    "https://www.hackerrank.com/challenges/merge-the-tools/problem?isFullScreen=true"
   ]
  },
  {
   "cell_type": "code",
   "execution_count": 9,
   "metadata": {},
   "outputs": [
    {
     "name": "stdout",
     "output_type": "stream",
     "text": [
      "AB\n",
      "CA\n",
      "AD\n"
     ]
    }
   ],
   "source": [
    "def merge_the_tools(string, k):\n",
    "    for i in range(0, len(string), k):\n",
    "        seen = set()\n",
    "        print(\"\".join([ch for ch in string[i:i+k] if ch not in seen and not seen.add(ch)]))\n",
    "\n",
    "\n",
    "if __name__ == \"__main__\":\n",
    "    string, k = input(), int(input())\n",
    "    merge_the_tools(string, k)"
   ]
  },
  {
   "cell_type": "markdown",
   "metadata": {},
   "source": [
    "**Step-by-step evaluation:**"
   ]
  },
  {
   "cell_type": "code",
   "execution_count": null,
   "metadata": {},
   "outputs": [
    {
     "name": "stdout",
     "output_type": "stream",
     "text": [
      "True\n",
      "False\n",
      "True\n",
      "{'B', 'A'}\n"
     ]
    }
   ],
   "source": [
    "seen = set()\n",
    "\n",
    "print(\"A\" not in seen and not seen.add(\"A\"))\n",
    "print(\"A\" not in seen and not seen.add(\"A\"))\n",
    "print(\"B\" not in seen and not seen.add(\"B\"))\n",
    "print(\"C\" not in seen and not seen.add(\"C\"))\n",
    "print(seen)"
   ]
  }
 ],
 "metadata": {
  "kernelspec": {
   "display_name": "Python 3",
   "language": "python",
   "name": "python3"
  },
  "language_info": {
   "codemirror_mode": {
    "name": "ipython",
    "version": 3
   },
   "file_extension": ".py",
   "mimetype": "text/x-python",
   "name": "python",
   "nbconvert_exporter": "python",
   "pygments_lexer": "ipython3",
   "version": "3.13.1"
  }
 },
 "nbformat": 4,
 "nbformat_minor": 2
}
