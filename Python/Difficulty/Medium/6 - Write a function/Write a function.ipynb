{
 "cells": [
  {
   "cell_type": "markdown",
   "metadata": {},
   "source": [
    "### Question 6\n",
    "\n",
    "**Write a function**\n",
    "\n",
    "https://www.hackerrank.com/challenges/write-a-function/problem?isFullScreen=true"
   ]
  },
  {
   "cell_type": "code",
   "execution_count": 3,
   "metadata": {},
   "outputs": [
    {
     "name": "stdout",
     "output_type": "stream",
     "text": [
      "True\n"
     ]
    }
   ],
   "source": [
    "def is_leap(year):\n",
    "    leap = False\n",
    "\n",
    "    if year % 4 == 0 and year % 100 != 0 or year % 400 == 0:\n",
    "        leap = True\n",
    "\n",
    "        return leap\n",
    "\n",
    "year = int(input())\n",
    "print(is_leap(year))"
   ]
  }
 ],
 "metadata": {
  "kernelspec": {
   "display_name": "Python 3",
   "language": "python",
   "name": "python3"
  },
  "language_info": {
   "codemirror_mode": {
    "name": "ipython",
    "version": 3
   },
   "file_extension": ".py",
   "mimetype": "text/x-python",
   "name": "python",
   "nbconvert_exporter": "python",
   "pygments_lexer": "ipython3",
   "version": "3.13.1"
  }
 },
 "nbformat": 4,
 "nbformat_minor": 2
}
