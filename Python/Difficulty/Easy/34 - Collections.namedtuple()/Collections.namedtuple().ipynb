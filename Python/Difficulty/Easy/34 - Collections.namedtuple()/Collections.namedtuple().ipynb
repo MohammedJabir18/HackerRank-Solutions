{
 "cells": [
  {
   "cell_type": "markdown",
   "metadata": {},
   "source": [
    "### Question 34\n",
    "\n",
    "**Collections.namedtuple()**\n",
    "\n",
    "https://www.hackerrank.com/challenges/py-collections-namedtuple/problem?isFullScreen=true"
   ]
  },
  {
   "cell_type": "code",
   "execution_count": 23,
   "metadata": {},
   "outputs": [
    {
     "name": "stdout",
     "output_type": "stream",
     "text": [
      "1, 97, Raymond, 7, \n",
      "2, 50, Steven, 4, \n",
      "3, 91, Adrian, 9, \n",
      "4, 72, Stewart, 5, \n",
      "5, 80, Peter, 6, \n"
     ]
    }
   ],
   "source": [
    "from collections import namedtuple\n",
    "\n",
    "n = int(input())\n",
    "\n",
    "columns = input().upper().split()\n",
    "Student = namedtuple(\"Student\", columns)\n",
    "\n",
    "total_mark = 0\n",
    "\n",
    "for _ in range(n):\n",
    "    data = input().split()\n",
    "    student = Student(*data)\n",
    "    for i in student:\n",
    "        print(i, end=\", \")\n",
    "    total_mark += float(student.MARKS)\n",
    "    print()"
   ]
  },
  {
   "cell_type": "code",
   "execution_count": 28,
   "metadata": {},
   "outputs": [
    {
     "name": "stdout",
     "output_type": "stream",
     "text": [
      "78.00\n"
     ]
    }
   ],
   "source": [
    "average = total_mark / n\n",
    "\n",
    "print(f\"{average:.2f}\")"
   ]
  }
 ],
 "metadata": {
  "kernelspec": {
   "display_name": "Python 3",
   "language": "python",
   "name": "python3"
  },
  "language_info": {
   "codemirror_mode": {
    "name": "ipython",
    "version": 3
   },
   "file_extension": ".py",
   "mimetype": "text/x-python",
   "name": "python",
   "nbconvert_exporter": "python",
   "pygments_lexer": "ipython3",
   "version": "3.13.1"
  }
 },
 "nbformat": 4,
 "nbformat_minor": 2
}
