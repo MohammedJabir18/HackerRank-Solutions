{
 "cells": [
  {
   "cell_type": "markdown",
   "metadata": {},
   "source": [
    "### Question 11\n",
    "\n",
    "**Finding the percentage**\n",
    "\n",
    "https://www.hackerrank.com/challenges/finding-the-percentage/problem?isFullScreen=true"
   ]
  },
  {
   "cell_type": "code",
   "execution_count": 23,
   "metadata": {},
   "outputs": [
    {
     "name": "stdout",
     "output_type": "stream",
     "text": [
      "{'Harsh': [25.0, 26.5, 28.0], 'Anurag': [26.0, 28.0, 30.0]}\n",
      "Harsh\n"
     ]
    }
   ],
   "source": [
    "n = int(input(\"Enter the limit: \"))\n",
    "student_marks = {}\n",
    "\n",
    "for _ in range(n):\n",
    "    name, *score = input(\"Enter the name and scores: \").split()\n",
    "    scores = list(map(float, score))\n",
    "    student_marks[name] = scores\n",
    "query_name = input(\"Which student average score do you want: \")\n",
    "\n",
    "print(student_marks)\n",
    "print(query_name)"
   ]
  },
  {
   "cell_type": "code",
   "execution_count": 24,
   "metadata": {},
   "outputs": [
    {
     "name": "stdout",
     "output_type": "stream",
     "text": [
      "Harsh are [26.0, 28.0, 30.0] whose average is => 26.50\n"
     ]
    }
   ],
   "source": [
    "if query_name in student_marks.keys():\n",
    "    average = sum(student_marks[query_name]) / len(score)\n",
    "    print(f\"{query_name} are {scores} whose average is => {average:.2f}\")\n",
    "else:\n",
    "    print(f\"{query_name} is can't find\")"
   ]
  }
 ],
 "metadata": {
  "kernelspec": {
   "display_name": "Python 3",
   "language": "python",
   "name": "python3"
  },
  "language_info": {
   "codemirror_mode": {
    "name": "ipython",
    "version": 3
   },
   "file_extension": ".py",
   "mimetype": "text/x-python",
   "name": "python",
   "nbconvert_exporter": "python",
   "pygments_lexer": "ipython3",
   "version": "3.13.1"
  }
 },
 "nbformat": 4,
 "nbformat_minor": 2
}
