{
 "cells": [
  {
   "cell_type": "markdown",
   "metadata": {},
   "source": [
    "### Question 25\n",
    "\n",
    "**itertools.permutations()**\n",
    "\n",
    "https://www.hackerrank.com/challenges/itertools-permutations/problem?isFullScreen=true"
   ]
  },
  {
   "cell_type": "code",
   "execution_count": null,
   "metadata": {},
   "outputs": [
    {
     "name": "stdout",
     "output_type": "stream",
     "text": [
      "AC\n",
      "AH\n",
      "AK\n",
      "CA\n",
      "CH\n",
      "CK\n",
      "HA\n",
      "HC\n",
      "HK\n",
      "KA\n",
      "KC\n",
      "KH\n"
     ]
    }
   ],
   "source": [
    "from itertools import permutations\n",
    "\n",
    "s, k = input().upper().split()\n",
    "\n",
    "for i in permutations(sorted(s), int(k)):\n",
    "    print(\"\".join(i))"
   ]
  }
 ],
 "metadata": {
  "kernelspec": {
   "display_name": "Python 3",
   "language": "python",
   "name": "python3"
  },
  "language_info": {
   "codemirror_mode": {
    "name": "ipython",
    "version": 3
   },
   "file_extension": ".py",
   "mimetype": "text/x-python",
   "name": "python",
   "nbconvert_exporter": "python",
   "pygments_lexer": "ipython3",
   "version": "3.13.1"
  }
 },
 "nbformat": 4,
 "nbformat_minor": 2
}
