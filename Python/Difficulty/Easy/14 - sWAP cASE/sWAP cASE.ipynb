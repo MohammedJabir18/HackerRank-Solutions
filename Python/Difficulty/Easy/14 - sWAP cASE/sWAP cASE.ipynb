{
 "cells": [
  {
   "cell_type": "markdown",
   "metadata": {},
   "source": [
    "### Question 14\n",
    "\n",
    "**sWAP cASE**\n",
    "\n",
    "https://www.hackerrank.com/challenges/swap-case/problem?isFullScreen=true"
   ]
  },
  {
   "cell_type": "code",
   "execution_count": 16,
   "metadata": {},
   "outputs": [
    {
     "name": "stdout",
     "output_type": "stream",
     "text": [
      "HackerRank.com presents \"Pythonist 2\".\n",
      "hACKERrANK.COM PRESENTS \"pYTHONIST 2\".\n"
     ]
    }
   ],
   "source": [
    "# Method 1\n",
    "def swap_case(s):\n",
    "    s = list(s)\n",
    "    for index, i in enumerate(s):\n",
    "        if i.islower():\n",
    "            s[index] = i.upper()\n",
    "        else:\n",
    "            s[index] = i.lower()\n",
    "\n",
    "    return \"\".join(s)\n",
    "\n",
    "if __name__ == \"__main__\":\n",
    "    s = input()\n",
    "    result = swap_case(s)\n",
    "    print(s)\n",
    "    print(result)"
   ]
  },
  {
   "cell_type": "code",
   "execution_count": 17,
   "metadata": {},
   "outputs": [
    {
     "name": "stdout",
     "output_type": "stream",
     "text": [
      "sg.2EHl62PsMSND7C9xyySfVv067GYBbHSsm0sj7ZPajwR8PWefZQ3acTUsaJPl7zNwxBasgLbNeAWsNwS1 GPcYskb2.AT BT5s\n"
     ]
    }
   ],
   "source": [
    "# Method 2 (Simple & efficient method)\n",
    "def swap_case(s):\n",
    "    return s.swapcase()\n",
    "\n",
    "s = input()\n",
    "print(swap_case(s))"
   ]
  }
 ],
 "metadata": {
  "kernelspec": {
   "display_name": "Python 3",
   "language": "python",
   "name": "python3"
  },
  "language_info": {
   "codemirror_mode": {
    "name": "ipython",
    "version": 3
   },
   "file_extension": ".py",
   "mimetype": "text/x-python",
   "name": "python",
   "nbconvert_exporter": "python",
   "pygments_lexer": "ipython3",
   "version": "3.13.1"
  }
 },
 "nbformat": 4,
 "nbformat_minor": 2
}
