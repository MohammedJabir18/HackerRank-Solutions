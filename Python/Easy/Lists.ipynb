{
 "cells": [
  {
   "cell_type": "markdown",
   "metadata": {},
   "source": [
    "### Question 11\n",
    "\n",
    "**Lists**\n",
    "\n",
    "https://www.hackerrank.com/challenges/python-lists/problem?isFullScreen=true"
   ]
  },
  {
   "cell_type": "code",
   "execution_count": null,
   "metadata": {},
   "outputs": [
    {
     "name": "stdout",
     "output_type": "stream",
     "text": [
      "[6, 5, 10]\n",
      "[1, 5, 9, 10]\n",
      "[9, 5, 1]\n"
     ]
    }
   ],
   "source": [
    "N = int(input())\n",
    "arr = []\n",
    "\n",
    "for _ in range(N):\n",
    "    command = input().lower().split()\n",
    "\n",
    "    if command[0] == \"insert\":\n",
    "        arr.insert(int(command[1]), int(command[2]))\n",
    "    elif command[0] == \"print\":\n",
    "        print(arr)\n",
    "    elif command[0] == \"remove\":\n",
    "        arr.remove(int(command[1]))\n",
    "    elif command[0] == \"append\":\n",
    "        arr.append(int(command[1]))\n",
    "    elif command[0] == \"sort\":\n",
    "        arr.sort()\n",
    "    elif command[0] == \"pop\":\n",
    "        arr.pop()\n",
    "    elif command[0] == \"reverse\":\n",
    "        arr.reverse()"
   ]
  }
 ],
 "metadata": {
  "kernelspec": {
   "display_name": "Python 3",
   "language": "python",
   "name": "python3"
  },
  "language_info": {
   "codemirror_mode": {
    "name": "ipython",
    "version": 3
   },
   "file_extension": ".py",
   "mimetype": "text/x-python",
   "name": "python",
   "nbconvert_exporter": "python",
   "pygments_lexer": "ipython3",
   "version": "3.13.1"
  }
 },
 "nbformat": 4,
 "nbformat_minor": 2
}
