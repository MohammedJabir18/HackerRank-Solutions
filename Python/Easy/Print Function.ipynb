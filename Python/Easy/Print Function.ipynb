{
 "cells": [
  {
   "cell_type": "markdown",
   "metadata": {},
   "source": [
    "### Question 7\n",
    "\n",
    "**Print Function**\n",
    "\n",
    "https://www.hackerrank.com/challenges/python-print/problem?isFullScreen=true"
   ]
  },
  {
   "cell_type": "code",
   "execution_count": 4,
   "metadata": {},
   "outputs": [
    {
     "name": "stdout",
     "output_type": "stream",
     "text": [
      "12345678910"
     ]
    }
   ],
   "source": [
    "def consecutive_values(num):\n",
    "    for i in range(1, num+1):\n",
    "        print(i, end=\"\")\n",
    "\n",
    "if __name__ == \"__main__\":\n",
    "    n = int(input())\n",
    "\n",
    "    consecutive_values(n)\n"
   ]
  }
 ],
 "metadata": {
  "kernelspec": {
   "display_name": "Python 3",
   "language": "python",
   "name": "python3"
  },
  "language_info": {
   "codemirror_mode": {
    "name": "ipython",
    "version": 3
   },
   "file_extension": ".py",
   "mimetype": "text/x-python",
   "name": "python",
   "nbconvert_exporter": "python",
   "pygments_lexer": "ipython3",
   "version": "3.13.1"
  }
 },
 "nbformat": 4,
 "nbformat_minor": 2
}
